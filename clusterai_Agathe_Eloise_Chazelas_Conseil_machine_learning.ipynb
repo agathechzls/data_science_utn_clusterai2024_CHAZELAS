{
  "nbformat": 4,
  "nbformat_minor": 0,
  "metadata": {
    "colab": {
      "provenance": []
    },
    "kernelspec": {
      "name": "python3",
      "display_name": "Python 3"
    },
    "language_info": {
      "name": "python"
    }
  },
  "cells": [
    {
      "cell_type": "code",
      "source": [
        "from google.colab import drive\n",
        "drive.mount('/content/drive')"
      ],
      "metadata": {
        "colab": {
          "base_uri": "https://localhost:8080/"
        },
        "id": "4vAa7c0p2Vzi",
        "outputId": "576f83b1-0146-4ef9-e5c9-b48e1f25a670"
      },
      "execution_count": 1,
      "outputs": [
        {
          "output_type": "stream",
          "name": "stdout",
          "text": [
            "Mounted at /content/drive\n"
          ]
        }
      ]
    },
    {
      "cell_type": "code",
      "source": [
        "# **1. Importación de librerías necesarias**\n",
        "import pandas as pd\n",
        "import numpy as np\n",
        "import seaborn as sns\n",
        "import matplotlib.pyplot as plt\n",
        "\n",
        "from sklearn.model_selection import train_test_split, cross_val_score, GridSearchCV\n",
        "from sklearn.preprocessing import StandardScaler, OneHotEncoder\n",
        "from sklearn.impute import SimpleImputer\n",
        "from sklearn.compose import ColumnTransformer\n",
        "from sklearn.pipeline import Pipeline\n",
        "from sklearn.ensemble import RandomForestRegressor\n",
        "from sklearn.svm import SVR\n",
        "from sklearn.decomposition import PCA\n",
        "from sklearn.metrics import mean_squared_error, r2_score\n"
      ],
      "metadata": {
        "id": "a-B710Os8j0b"
      },
      "execution_count": 2,
      "outputs": []
    },
    {
      "cell_type": "code",
      "source": [
        "# **2. Cargar los datos**\n",
        "data = pd.read_csv('/content/drive/MyDrive/Airbnb/airbnb_us.csv')\n",
        "\n",
        "# Vista preliminar de los datos\n",
        "print(\"Primeras filas del dataset:\")\n",
        "print(data.head())"
      ],
      "metadata": {
        "colab": {
          "base_uri": "https://localhost:8080/"
        },
        "id": "N1lTonWR8ov2",
        "outputId": "203dba85-d436-4ec8-df32-6708f81854fc"
      },
      "execution_count": 3,
      "outputs": [
        {
          "output_type": "stream",
          "name": "stdout",
          "text": [
            "Primeras filas del dataset:\n",
            "         id property_type        room_type  \\\n",
            "0  13418779         House  Entire home/apt   \n",
            "1   3808709     Apartment  Entire home/apt   \n",
            "2  12422935     Apartment     Private room   \n",
            "3    180792         House     Private room   \n",
            "4   2658946     Apartment  Entire home/apt   \n",
            "\n",
            "                                           amenities  accommodates  bathrooms  \\\n",
            "0  {TV,\"Cable TV\",Internet,\"Wireless Internet\",Ki...             4        1.0   \n",
            "1  {TV,Internet,\"Wireless Internet\",\"Air conditio...             2        1.0   \n",
            "2  {TV,\"Wireless Internet\",Heating,\"Smoke detecto...             2        1.0   \n",
            "3  {TV,\"Cable TV\",\"Wireless Internet\",\"Pets live ...             2        1.0   \n",
            "4  {TV,\"Cable TV\",Internet,\"Wireless Internet\",\"A...             6        1.5   \n",
            "\n",
            "   bed_type cancellation_policy  cleaning_fee city  ...   longitude  \\\n",
            "0  Real Bed            flexible          True   SF  ... -122.431619   \n",
            "1  Real Bed            moderate          True   DC  ...  -77.034596   \n",
            "2  Real Bed              strict          True   SF  ... -122.429526   \n",
            "3  Real Bed            moderate          True   SF  ... -122.501095   \n",
            "4  Real Bed              strict          True   DC  ...  -77.031189   \n",
            "\n",
            "                                                name      neighbourhood  \\\n",
            "0                 Beautiful Flat in the Heart of SF!       Lower Haight   \n",
            "1                         Great studio in midtown DC   Columbia Heights   \n",
            "2                        Comfort Suite San Francisco         Noe Valley   \n",
            "3                 Cozy Garden Studio - Private Entry  Richmond District   \n",
            "4  Charming 2 bdrm in trendy U/14th streets w/par...  U Street Corridor   \n",
            "\n",
            "  number_of_reviews review_scores_rating  \\\n",
            "0                 0                  NaN   \n",
            "1                 4                 40.0   \n",
            "2                 3                100.0   \n",
            "3               159                 99.0   \n",
            "4                13                 89.0   \n",
            "\n",
            "                                       thumbnail_url  zipcode bedrooms  beds  \\\n",
            "0  https://a0.muscache.com/im/pictures/72208dad-9...  94117.0      2.0   2.0   \n",
            "1                                                NaN    20009      0.0   1.0   \n",
            "2  https://a0.muscache.com/im/pictures/82509143-4...    94131      1.0   1.0   \n",
            "3  https://a0.muscache.com/im/pictures/0ed6c128-7...    94121      1.0   1.0   \n",
            "4                                                NaN    20009      2.0   3.0   \n",
            "\n",
            "   price  \n",
            "0  750.0  \n",
            "1  115.0  \n",
            "2   85.0  \n",
            "3  120.0  \n",
            "4  200.0  \n",
            "\n",
            "[5 rows x 29 columns]\n"
          ]
        }
      ]
    },
    {
      "cell_type": "code",
      "source": [
        "# **3. Preprocesamiento de los datos**\n",
        "\n",
        "# a. Eliminar columnas irrelevantes\n",
        "columns_to_drop = ['id', 'name', 'thumbnail_url', 'zipcode', 'longitude', 'latitude', 'amenities', 'description', 'neighbourhood', 'cleaning_fee', 'cancellation_policy']\n",
        "data = data.drop(columns=columns_to_drop, errors='ignore')\n",
        "\n",
        "# b. Limpieza y transformación de la columna `price`\n",
        "data['price'] = data['price'].replace('[\\$,]', '', regex=True).astype(float)\n",
        "\n",
        "# c. Separar variables predictoras (X) y objetivo (y)\n",
        "X = data.drop('price', axis=1)\n",
        "y = data['price']\n",
        "\n",
        "# d. Identificar variables categóricas y numéricas\n",
        "categorical_features = X.select_dtypes(include=['object']).columns.tolist()\n",
        "numerical_features = X.select_dtypes(include=['float64', 'int64']).columns.tolist()\n",
        "\n",
        "print(\"Variables categóricas:\", categorical_features)\n",
        "print(\"Variables numéricas:\", numerical_features)"
      ],
      "metadata": {
        "colab": {
          "base_uri": "https://localhost:8080/"
        },
        "id": "oi5OS2L28sqh",
        "outputId": "bcb2fbf9-e652-400d-ab8e-236e05a6c3a2"
      },
      "execution_count": 4,
      "outputs": [
        {
          "output_type": "stream",
          "name": "stdout",
          "text": [
            "Variables categóricas: ['property_type', 'room_type', 'bed_type', 'city', 'first_review', 'host_has_profile_pic', 'host_identity_verified', 'host_response_rate', 'host_since', 'instant_bookable', 'last_review']\n",
            "Variables numéricas: ['accommodates', 'bathrooms', 'number_of_reviews', 'review_scores_rating', 'bedrooms', 'beds']\n"
          ]
        }
      ]
    },
    {
      "cell_type": "code",
      "source": [
        "# **4. Configuración del preprocesador de datos**\n",
        "\n",
        "# a. Transformaciones para variables numéricas\n",
        "numerical_transformer = Pipeline(steps=[\n",
        "    ('imputer', SimpleImputer(strategy='mean')),\n",
        "    ('scaler', StandardScaler())\n",
        "])\n",
        "\n",
        "# b. Transformaciones para variables categóricas\n",
        "categorical_transformer = Pipeline(steps=[\n",
        "    ('imputer', SimpleImputer(strategy='most_frequent')),\n",
        "    ('onehot', OneHotEncoder(handle_unknown='ignore'))\n",
        "])\n",
        "\n",
        "# c. Combinación de transformaciones en un `ColumnTransformer`\n",
        "preprocessor = ColumnTransformer(\n",
        "    transformers=[\n",
        "        ('num', numerical_transformer, numerical_features),\n",
        "        ('cat', categorical_transformer, categorical_features)\n",
        "    ])\n"
      ],
      "metadata": {
        "id": "-1Kzh_FM80iN"
      },
      "execution_count": 5,
      "outputs": []
    },
    {
      "cell_type": "code",
      "source": [
        "# **5. Construcción de modelos**\n",
        "\n",
        "# a. Pipeline con RandomForest\n",
        "rf_model = Pipeline(steps=[\n",
        "    ('preprocessor', preprocessor),\n",
        "    ('regressor', RandomForestRegressor(n_estimators=50, max_depth=10, random_state=0))\n",
        "])\n",
        "\n",
        "# b. Pipeline con SVR\n",
        "svr_model = Pipeline(steps=[\n",
        "    ('preprocessor', preprocessor),\n",
        "    ('regressor', SVR(kernel='rbf', C=100, epsilon=0.2))\n",
        "])\n",
        "\n",
        "# c. Pipeline con PCA y RandomForest\n",
        "pca_rf_model = Pipeline(steps=[\n",
        "    ('preprocessor', preprocessor),\n",
        "    ('pca', PCA(n_components=5)),\n",
        "    ('regressor', RandomForestRegressor(n_estimators=50, max_depth=10, random_state=0))\n",
        "])"
      ],
      "metadata": {
        "id": "yr6aPTu_85N4"
      },
      "execution_count": 6,
      "outputs": []
    },
    {
      "cell_type": "code",
      "source": [
        "# **6. División de datos en entrenamiento y prueba**\n",
        "X_train, X_test, y_train, y_test = train_test_split(X, y, test_size=0.2, random_state=0)\n",
        "\n",
        "# Función para evaluar un modelo\n",
        "def evaluar_modelo(modelo, X_train, X_test, y_train, y_test, nombre_modelo):\n",
        "    modelo.fit(X_train, y_train)  # Entrenar el modelo\n",
        "    y_pred = modelo.predict(X_test)  # Predicciones\n",
        "    r2 = r2_score(y_test, y_pred)  # R²\n",
        "    rmse = np.sqrt(mean_squared_error(y_test, y_pred))  # RMSE\n",
        "    print(f\"\\nEvaluación del modelo {nombre_modelo}:\")\n",
        "    print(f\"R²: {r2:.4f}\")\n",
        "    print(f\"RMSE: {rmse:.2f}\")\n",
        "    return r2, rmse\n"
      ],
      "metadata": {
        "id": "OKAabsi6Yc5Y"
      },
      "execution_count": 7,
      "outputs": []
    },
    {
      "cell_type": "code",
      "source": [
        "# Evaluar RandomForest\n",
        "r2_rf, rmse_rf = evaluar_modelo(rf_model, X_train, X_test, y_train, y_test, \"RandomForest\")\n",
        "\n",
        "# Evaluar SVR\n",
        "r2_svr, rmse_svr = evaluar_modelo(svr_model, X_train, X_test, y_train, y_test, \"SVR\")\n",
        "\n",
        "# Evaluar PCA + RandomForest\n",
        "r2_pca_rf, rmse_pca_rf = evaluar_modelo(pca_rf_model, X_train, X_test, y_train, y_test, \"PCA + RandomForest\")\n",
        "\n",
        "# Crear un DataFrame con las métricas de cada modelo\n",
        "resultados = pd.DataFrame({\n",
        "    'Modelo': ['RandomForest', 'SVR', 'PCA + RandomForest'],\n",
        "    'R²': [r2_rf, r2_svr, r2_pca_rf],\n",
        "    'RMSE': [rmse_rf, rmse_svr, rmse_pca_rf]\n",
        "})\n",
        "\n",
        "print(\"\\nComparación de resultados:\")\n",
        "print(resultados)\n",
        "\n",
        "# Visualizar los resultados\n",
        "plt.figure(figsize=(8, 6))\n",
        "sns.barplot(data=resultados.melt(id_vars='Modelo'), x='Modelo', y='value', hue='variable')\n",
        "plt.title('Comparación de métricas de los modelos')\n",
        "plt.ylabel('Valor')\n",
        "plt.show()\n",
        "\n"
      ],
      "metadata": {
        "colab": {
          "base_uri": "https://localhost:8080/",
          "height": 962
        },
        "id": "rttvy3dC8haN",
        "outputId": "6a9d68cc-525d-4da3-8b44-1caac0415749"
      },
      "execution_count": 8,
      "outputs": [
        {
          "output_type": "stream",
          "name": "stdout",
          "text": [
            "\n",
            "Evaluación del modelo RandomForest:\n",
            "R²: 0.4345\n",
            "RMSE: 153.26\n",
            "\n",
            "Evaluación del modelo SVR:\n",
            "R²: 0.4006\n",
            "RMSE: 157.80\n",
            "\n",
            "Evaluación del modelo PCA + RandomForest:\n",
            "R²: 0.3576\n",
            "RMSE: 163.35\n",
            "\n",
            "Comparación de resultados:\n",
            "               Modelo        R²        RMSE\n",
            "0        RandomForest  0.434539  153.256986\n",
            "1                 SVR  0.400554  157.795203\n",
            "2  PCA + RandomForest  0.357608  163.349886\n"
          ]
        },
        {
          "output_type": "display_data",
          "data": {
            "text/plain": [
              "<Figure size 800x600 with 1 Axes>"
            ],
            "image/png": "[encoded data removed]"
          },
          "metadata": {}
        }
      ]
    },
    {
      "cell_type": "code",
      "source": [
        "# **9. Uso del modelo final para predicciones**\n",
        "\n",
        "# Selección del modelo final (RandomForest en este caso) lo que es muy raro pero.. no entiendo\n",
        "final_model = rf_model\n",
        "\n",
        "# Ejemplo de predicción con nuevas observaciones (filas seleccionadas del conjunto de prueba)\n",
        "new_samples = X_test.sample(5, random_state=0)\n",
        "true_prices = y_test.loc[new_samples.index]\n",
        "predicted_prices = final_model.predict(new_samples)\n",
        "\n",
        "# Mostrar resultados de predicción\n",
        "results = pd.DataFrame({\n",
        "    'Precio real': true_prices,\n",
        "    'Precio predicho': predicted_prices\n",
        "})\n",
        "\n",
        "print(\"\\nPredicciones del modelo final para nuevas muestras:\")\n",
        "print(results)"
      ],
      "metadata": {
        "colab": {
          "base_uri": "https://localhost:8080/",
          "height": 0
        },
        "id": "7V8FAHjY8_16",
        "outputId": "2711da94-9797-4a94-c829-fdd90196a5b9"
      },
      "execution_count": 21,
      "outputs": [
        {
          "output_type": "stream",
          "name": "stdout",
          "text": [
            "\n",
            "Predicciones del modelo final para nuevas muestras:\n",
            "       Precio real  Precio predicho\n",
            "3439          75.0       125.138050\n",
            "9206          75.0       117.267560\n",
            "13058        225.0       404.918778\n",
            "1195          90.0       117.267560\n",
            "752          149.0       143.253688\n"
          ]
        }
      ]
    }
  ]
}